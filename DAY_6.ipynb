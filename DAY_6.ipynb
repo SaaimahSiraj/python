{
  "nbformat": 4,
  "nbformat_minor": 0,
  "metadata": {
    "colab": {
      "provenance": []
    },
    "kernelspec": {
      "name": "python3",
      "display_name": "Python 3"
    },
    "language_info": {
      "name": "python"
    }
  },
  "cells": [
    {
      "cell_type": "code",
      "execution_count": 1,
      "metadata": {
        "colab": {
          "base_uri": "https://localhost:8080/"
        },
        "id": "n8QgKUB51xJK",
        "outputId": "f1439c0b-b174-42c5-fc41-c23a2304b70e"
      },
      "outputs": [
        {
          "output_type": "stream",
          "name": "stderr",
          "text": [
            "[nltk_data] Downloading package stopwords to /root/nltk_data...\n",
            "[nltk_data]   Unzipping corpora/stopwords.zip.\n"
          ]
        },
        {
          "output_type": "stream",
          "name": "stdout",
          "text": [
            "Enter a text: hello i am soandso\n",
            "\n",
            "Processed Words (no stopwords, all lowercase):\n",
            "hello soandso\n"
          ]
        }
      ],
      "source": [
        "import nltk\n",
        "from nltk.corpus import stopwords\n",
        "import spacy\n",
        "\n",
        "# Download NLTK stopwords if not already downloaded\n",
        "nltk.download('stopwords')\n",
        "\n",
        "# Load English stopwords from NLTK\n",
        "nltk_stopwords = set(stopwords.words('english'))\n",
        "\n",
        "# Load SpaCy's English model\n",
        "nlp = spacy.load('en_core_web_sm')\n",
        "\n",
        "def preprocess_text(text):\n",
        "    # Convert text to lowercase\n",
        "    text = text.lower()\n",
        "\n",
        "    # Tokenize text using SpaCy\n",
        "    doc = nlp(text)\n",
        "\n",
        "    # Remove stopwords and punctuation\n",
        "    filtered_words = [token.text for token in doc if token.text not in nltk_stopwords and not token.is_punct]\n",
        "\n",
        "    return filtered_words\n",
        "\n",
        "# Input text\n",
        "text = input(\"Enter a text: \")\n",
        "\n",
        "# Preprocess text\n",
        "processed_words = preprocess_text(text)\n",
        "\n",
        "# Print result\n",
        "print(\"\\nProcessed Words (no stopwords, all lowercase):\")\n",
        "print(\" \".join(processed_words))\n"
      ]
    }
  ]
}