{
  "nbformat": 4,
  "nbformat_minor": 0,
  "metadata": {
    "colab": {
      "provenance": []
    },
    "kernelspec": {
      "name": "python3",
      "display_name": "Python 3"
    },
    "language_info": {
      "name": "python"
    }
  },
  "cells": [
    {
      "cell_type": "code",
      "execution_count": 1,
      "metadata": {
        "colab": {
          "base_uri": "https://localhost:8080/"
        },
        "id": "CABmZ4AyjG-E",
        "outputId": "c6c1fff7-9335-44dc-c30e-67603b6bdf26"
      },
      "outputs": [
        {
          "output_type": "stream",
          "name": "stdout",
          "text": [
            "Part-of-Speech Tags:\n",
            "NLP: PROPN\n",
            "is: AUX\n",
            "amazing: ADJ\n",
            "and: CCONJ\n",
            "fun: ADJ\n",
            "to: PART\n",
            "learn: VERB\n",
            ".: PUNCT\n"
          ]
        }
      ],
      "source": [
        "import spacy\n",
        "\n",
        "def pos_tagging(sentence):\n",
        "    \"\"\"\n",
        "    Performs part-of-speech tagging on a given sentence using SpaCy.\n",
        "\n",
        "    Args:\n",
        "        sentence (str): The input sentence.\n",
        "\n",
        "    Returns:\n",
        "        list: A list of tuples with each word and its corresponding part-of-speech tag.\n",
        "    \"\"\"\n",
        "    # Load the SpaCy English model\n",
        "    nlp = spacy.load(\"en_core_web_sm\")\n",
        "    # Process the sentence\n",
        "    doc = nlp(sentence)\n",
        "    # Extract words and their POS tags\n",
        "    pos_tags = [(token.text, token.pos_) for token in doc]\n",
        "    return pos_tags\n",
        "\n",
        "# Input sentence\n",
        "sentence = \"NLP is amazing and fun to learn.\"\n",
        "\n",
        "# Perform POS tagging\n",
        "pos_tags = pos_tagging(sentence)\n",
        "print(\"Part-of-Speech Tags:\")\n",
        "for word, tag in pos_tags:\n",
        "    print(f\"{word}: {tag}\")\n"
      ]
    }
  ]
}