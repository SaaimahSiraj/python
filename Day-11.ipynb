{
 "cells": [
  {
   "cell_type": "code",
   "execution_count": 2,
   "id": "ce005052-a835-4343-9e5b-359cb261b007",
   "metadata": {},
   "outputs": [
    {
     "name": "stdout",
     "output_type": "stream",
     "text": [
      "Original text: Contact us at support@example.com and sales@example.org.\n",
      "Extracted emails: ['support@example.com', 'sales@example.org']\n"
     ]
    }
   ],
   "source": [
    "import re\n",
    "\n",
    "def extract_emails(text):\n",
    "    \"\"\"\n",
    "    Extracts all email addresses from the input text using regular expressions.\n",
    "    \n",
    "    Args:\n",
    "        text (str): The input string containing email addresses.\n",
    "    \n",
    "    Returns:\n",
    "        list: A list of extracted email addresses.\n",
    "    \"\"\"\n",
    "    # Regular expression to match email addresses\n",
    "    email_pattern = r'[a-zA-Z0-9._%+-]+@[a-zA-Z0-9.-]+\\.[a-zA-Z]{2,}'\n",
    "    # Find all matches in the text\n",
    "    emails = re.findall(email_pattern, text)\n",
    "    return emails\n",
    "\n",
    "# Test the function\n",
    "input_text = 'Contact us at support@example.com and sales@example.org.'\n",
    "extracted_emails = extract_emails(input_text)\n",
    "print(f\"Original text: {input_text}\")\n",
    "print(f\"Extracted emails: {extracted_emails}\")\n"
   ]
  },
  {
   "cell_type": "code",
   "execution_count": null,
   "id": "e0ee0745-8048-4f25-947a-16a93faf9a62",
   "metadata": {},
   "outputs": [],
   "source": []
  }
 ],
 "metadata": {
  "kernelspec": {
   "display_name": "Python 3 (ipykernel)",
   "language": "python",
   "name": "python3"
  },
  "language_info": {
   "codemirror_mode": {
    "name": "ipython",
    "version": 3
   },
   "file_extension": ".py",
   "mimetype": "text/x-python",
   "name": "python",
   "nbconvert_exporter": "python",
   "pygments_lexer": "ipython3",
   "version": "3.11.7"
  }
 },
 "nbformat": 4,
 "nbformat_minor": 5
}
