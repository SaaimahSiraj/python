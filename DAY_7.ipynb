{
  "nbformat": 4,
  "nbformat_minor": 0,
  "metadata": {
    "colab": {
      "provenance": []
    },
    "kernelspec": {
      "name": "python3",
      "display_name": "Python 3"
    },
    "language_info": {
      "name": "python"
    }
  },
  "cells": [
    {
      "cell_type": "code",
      "execution_count": 4,
      "metadata": {
        "colab": {
          "base_uri": "https://localhost:8080/"
        },
        "id": "n8QgKUB51xJK",
        "outputId": "657a1ddc-2169-4628-b46e-7ffcb5dcd69e"
      },
      "outputs": [
        {
          "output_type": "stream",
          "name": "stderr",
          "text": [
            "[nltk_data] Downloading package wordnet to /root/nltk_data...\n",
            "[nltk_data]   Package wordnet is already up-to-date!\n",
            "[nltk_data] Downloading package omw-1.4 to /root/nltk_data...\n",
            "[nltk_data]   Package omw-1.4 is already up-to-date!\n"
          ]
        },
        {
          "output_type": "stream",
          "name": "stdout",
          "text": [
            "Original Text:\n",
            "Natural language processing (NLP) is a sub-field of artificial intelligence that focuses on the interaction between computers and humans through natural language. \n",
            "The ultimate objective of NLP is to read, decipher, understand, and make sense of human languages in a way that is valuable.\n",
            "\n",
            "\n",
            "Processed Text:\n",
            "natur languag process nlp sub field artifici intellig focus interact comput human natur languag ultim object nlp read deciph understand sens human languag way valuabl\n"
          ]
        }
      ],
      "source": [
        "from gensim.utils import simple_preprocess\n",
        "from gensim.parsing.preprocessing import STOPWORDS\n",
        "from nltk.stem.porter import PorterStemmer\n",
        "from nltk.corpus import wordnet\n",
        "from nltk.stem import WordNetLemmatizer\n",
        "import nltk\n",
        "\n",
        "# Download required NLTK data\n",
        "nltk.download('wordnet')\n",
        "nltk.download('omw-1.4')\n",
        "\n",
        "# Initialize stemmer and lemmatizer\n",
        "stemmer = PorterStemmer()\n",
        "lemmatizer = WordNetLemmatizer()\n",
        "\n",
        "def preprocess_text(text):\n",
        "    # Tokenize and remove stopwords\n",
        "    tokens = [word for word in simple_preprocess(text) if word not in STOPWORDS]\n",
        "\n",
        "    # Perform stemming\n",
        "    stemmed_tokens = [stemmer.stem(token) for token in tokens]\n",
        "\n",
        "    # Perform lemmatization\n",
        "    lemmatized_tokens = [lemmatizer.lemmatize(token, pos='v') for token in stemmed_tokens]\n",
        "\n",
        "    return lemmatized_tokens\n",
        "\n",
        "# Read data from a sample text file\n",
        "with open('sample_text.txt', 'r', encoding='utf-8') as file:\n",
        "    text = file.read()\n",
        "\n",
        "# Preprocess the text\n",
        "processed_text = preprocess_text(text)\n",
        "\n",
        "# Display the results\n",
        "print(\"Original Text:\")\n",
        "print(text)\n",
        "print(\"\\nProcessed Text:\")\n",
        "print(\" \".join(processed_text))\n"
      ]
    }
  ]
}