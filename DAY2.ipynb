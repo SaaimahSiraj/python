{
 "cells": [
  {
   "cell_type": "code",
   "execution_count": 4,
   "id": "bb08d063-d649-4190-9086-68e638049b98",
   "metadata": {},
   "outputs": [
    {
     "name": "stdout",
     "output_type": "stream",
     "text": [
      "Apple\n",
      "Cherry\n",
      "Orange\n"
     ]
    }
   ],
   "source": [
    "#Create a list with 5 elements\n",
    "fruits = [\"Apple\", \"Banana\", \"Cherry\", \"Mango\", \"Orange\"]\n",
    "print(fruits[0]) \n",
    "print(fruits[2]) \n",
    "print(fruits[-1]) \n"
   ]
  },
  {
   "cell_type": "code",
   "execution_count": 3,
   "id": "523e64f5-42f7-49f5-922c-898d27119d6b",
   "metadata": {},
   "outputs": [
    {
     "name": "stdout",
     "output_type": "stream",
     "text": [
      "20\n",
      "50\n",
      "40\n"
     ]
    }
   ],
   "source": [
    "# Create a tuple with 5 elements\n",
    "numbers = (10, 20, 30, 40, 50)\n",
    "print(numbers[1])  \n",
    "print(numbers[4]) \n",
    "print(numbers[-2]) \n"
   ]
  },
  {
   "cell_type": "code",
   "execution_count": null,
   "id": "251fad11-1aa3-4f32-96de-db2fa3972703",
   "metadata": {},
   "outputs": [],
   "source": [
    "# Create a dictionary with 5 elements\n",
    "person = {\n",
    "    \"name\": \"Alice\",\n",
    "    \"age\": 25,\n",
    "    \"city\": \"New York\",\n",
    "    \"profession\": \"Engineer\",\n",
    "    \"hobby\": \"Reading\"\n",
    "}\n",
    "\n",
    "print(person[\"name\"])       \n",
    "print(person[\"profession\"])  # Output: Engineer\n",
    "print(person.get(\"hobby\"))   # Output: Reading\n"
   ]
  }
 ],
 "metadata": {
  "kernelspec": {
   "display_name": "Python 3 (ipykernel)",
   "language": "python",
   "name": "python3"
  },
  "language_info": {
   "codemirror_mode": {
    "name": "ipython",
    "version": 3
   },
   "file_extension": ".py",
   "mimetype": "text/x-python",
   "name": "python",
   "nbconvert_exporter": "python",
   "pygments_lexer": "ipython3",
   "version": "3.11.7"
  }
 },
 "nbformat": 4,
 "nbformat_minor": 5
}
