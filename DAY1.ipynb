{
 "cells": [
  {
   "cell_type": "code",
   "execution_count": 1,
   "id": "bb08d063-d649-4190-9086-68e638049b98",
   "metadata": {},
   "outputs": [
    {
     "name": "stdout",
     "output_type": "stream",
     "text": [
      "Integer Variable: 23 Type: <class 'int'>\n",
      "Float Variable: 8.91 Type: <class 'float'>\n",
      "String Variable: Hello, World! Type: <class 'str'>\n",
      "Boolean Variable: True Type: <class 'bool'>\n"
     ]
    }
   ],
   "source": [
    "#Day -1 : Declaring variables of different data types\n",
    "integer_var = 23                \n",
    "float_var = 8.91                \n",
    "string_var = \"Hello, World!\"  \n",
    "boolean_var = True              \n",
    "\n",
    "print(\"Integer Variable:\", integer_var, \"Type:\", type(integer_var))\n",
    "print(\"Float Variable:\", float_var, \"Type:\", type(float_var))\n",
    "print(\"String Variable:\", string_var, \"Type:\", type(string_var))\n",
    "print(\"Boolean Variable:\", boolean_var, \"Type:\", type(boolean_var))"
   ]
  },
  {
   "cell_type": "code",
   "execution_count": null,
   "id": "523e64f5-42f7-49f5-922c-898d27119d6b",
   "metadata": {},
   "outputs": [],
   "source": []
  }
 ],
 "metadata": {
  "kernelspec": {
   "display_name": "Python 3 (ipykernel)",
   "language": "python",
   "name": "python3"
  },
  "language_info": {
   "codemirror_mode": {
    "name": "ipython",
    "version": 3
   },
   "file_extension": ".py",
   "mimetype": "text/x-python",
   "name": "python",
   "nbconvert_exporter": "python",
   "pygments_lexer": "ipython3",
   "version": "3.11.7"
  }
 },
 "nbformat": 4,
 "nbformat_minor": 5
}
